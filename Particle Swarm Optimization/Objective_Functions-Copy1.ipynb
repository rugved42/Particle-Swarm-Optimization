{
 "cells": [
  {
   "cell_type": "code",
   "execution_count": 8,
   "metadata": {},
   "outputs": [],
   "source": [
    "import numpy as np\n",
    "from sklearn import preprocessing\n",
    "import math\n",
    "import random\n",
    "import matplotlib.pyplot as plt\n",
    "optimum_val = []"
   ]
  },
  {
   "cell_type": "code",
   "execution_count": 1,
   "metadata": {},
   "outputs": [],
   "source": [
    "def Dejon_fun(a,b): \n",
    "    obj_val = []\n",
    "    tmp = 0\n",
    "    for i in range(len(a)): \n",
    "        tmp = a[i]**2 + b[i]**2\n",
    "        obj_val.append(tmp)\n",
    "    print(obj_val)\n",
    "    return obj_val"
   ]
  },
  {
   "cell_type": "code",
   "execution_count": 2,
   "metadata": {},
   "outputs": [],
   "source": [
    "def Rosenbrock_fun(a, b):\n",
    "    f = 0\n",
    "    obj_val = []\n",
    "    for i in range(len(a)):\n",
    "        f = 100*np.power(b[i]-np.power(a[i],2),2) + np.power(a[i]-1,2)\n",
    "        obj_val.append(f)\n",
    "    print(obj_val)\n",
    "    return obj_val"
   ]
  },
  {
   "cell_type": "code",
   "execution_count": 3,
   "metadata": {},
   "outputs": [],
   "source": [
    "def Rastrigin_fun(a,b):\n",
    "    import math\n",
    "    obj_val = []\n",
    "    tem2 = []\n",
    "    for i in range(len(a)):\n",
    "#         x = 20 + (np.subtract(np.square(a), 10 * math.cos(2*np.pi* a[i]))) + (np.subtract(np.square(b), 10 * math.cos(2*np.pi* b[i])))\n",
    "        tmp2 = 20 + np.power(a[i],2)-10*np.cos(2*np.pi*a[i]) +  np.power(b[i],2)-10*np.cos(2*np.pi*b[i])\n",
    "#         print(tmp2)\n",
    "        obj_val.append(tmp2)\n",
    "#     print(obj_val)\n",
    "    return (obj_val)"
   ]
  },
  {
   "cell_type": "code",
   "execution_count": 4,
   "metadata": {},
   "outputs": [],
   "source": [
    "def Schwefel_function(a,b):\n",
    "    obj_val = []\n",
    "    tmp = 0\n",
    "    for i in range(len(a)):\n",
    "#         print(i)\n",
    "        tmp = -a[i]*np.sin(np.sqrt(np.absolute(a[i]))) - b[i]*np.sin(np.sqrt(np.absolute(b[i])))\n",
    "#         print(tmp)\n",
    "        obj_val.append(tmp)\n",
    "    print(obj_val)\n",
    "    return obj_val"
   ]
  },
  {
   "cell_type": "code",
   "execution_count": 5,
   "metadata": {},
   "outputs": [],
   "source": [
    "def Ackley_fun(a,b):\n",
    "    tmp1 = 0\n",
    "    tmp2 = 0\n",
    "    obj_val = []\n",
    "    for i in range(len(a)): \n",
    "        if (a[i]* ((np.square(np.absolute(a[i])) + np.square(np.absolute(b[i])))) == 0):\n",
    "            tmp1 =0\n",
    "        else:\n",
    "            tmp1 = 20.-20.*np.exp(-0.2*np.sqrt(np.absolute(1./a[i]* (np.square(np.absolute(a[i])) + np.square(np.absolute(b[i]))))))\n",
    "        if (a[i]*((np.cos(a[i]*2.*np.pi)) + (np.cos(b[i]*2.*np.pi)))) == 0:\n",
    "            tmp2 = 0\n",
    "        else: \n",
    "            tmp2 = np.e-np.exp(1./(a[i]*((np.cos(a[i]*2.*np.pi)) + (np.cos(b[i]*2.*np.pi)))))\n",
    "        x = tmp1 + tmp2\n",
    "        obj_val.append(x)\n",
    "        print(\"obj_aukley\", obj_val)\n",
    "    return obj_val"
   ]
  },
  {
   "cell_type": "code",
   "execution_count": 6,
   "metadata": {},
   "outputs": [],
   "source": [
    "def Griewangk_fun(a,b):\n",
    "        tmp1 = 0\n",
    "        tmp2 = tmp3 = 0\n",
    "        obj_val = []\n",
    "        for i in range(len(a)):\n",
    "            tmp1 = np.power(a[i],2) + np.power(b[i],2)\n",
    "            tmp2 = np.cos(a[i]/np.sqrt(2))*np.cos(b[i]/np.sqrt(2))\n",
    "            tmp3 - tmp1/4000\n",
    "            x = tmp3 - tmp2 + 1\n",
    "            obj_val.append(x)\n",
    "        return obj_val"
   ]
  },
  {
   "cell_type": "code",
   "execution_count": 7,
   "metadata": {},
   "outputs": [],
   "source": [
    "def Lilun_fun(a,b): \n",
    "    tmp = 0\n",
    "    sume = 0\n",
    "    obj_val = []\n",
    "    for i in range(len(a)): \n",
    "        sume = a[i] + b[i] \n",
    "        tmp = np.power(a[i], 4) + np.power(b[i], 4) + np.power(sume, 2)\n",
    "        obj_val.append(tmp)\n",
    "    print(obj_val)\n",
    "    return obj_val"
   ]
  },
  {
   "cell_type": "code",
   "execution_count": null,
   "metadata": {},
   "outputs": [],
   "source": []
  }
 ],
 "metadata": {
  "kernelspec": {
   "display_name": "Python 3",
   "language": "python",
   "name": "python3"
  },
  "language_info": {
   "codemirror_mode": {
    "name": "ipython",
    "version": 3
   },
   "file_extension": ".py",
   "mimetype": "text/x-python",
   "name": "python",
   "nbconvert_exporter": "python",
   "pygments_lexer": "ipython3",
   "version": "3.7.6"
  }
 },
 "nbformat": 4,
 "nbformat_minor": 2
}
